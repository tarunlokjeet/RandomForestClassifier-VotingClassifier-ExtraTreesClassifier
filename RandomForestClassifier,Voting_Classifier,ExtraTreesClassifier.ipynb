{
 "cells": [
  {
   "cell_type": "code",
   "execution_count": 1,
   "id": "84ed8cd5-48b8-4998-a4f2-c9d728db3c9f",
   "metadata": {},
   "outputs": [
    {
     "name": "stdout",
     "output_type": "stream",
     "text": [
      "Random Forest Accuracy: 0.9656\n",
      "Extra Trees Accuracy: 0.9706\n"
     ]
    }
   ],
   "source": [
    "import numpy as np\n",
    "from sklearn.model_selection import train_test_split\n",
    "from sklearn.svm import SVC\n",
    "from sklearn.ensemble import RandomForestClassifier, ExtraTreesClassifier, VotingClassifier\n",
    "from sklearn.metrics import accuracy_score\n",
    "from sklearn.preprocessing import StandardScaler\n",
    "from sklearn.datasets import fetch_openml\n",
    "\n",
    "# Load MNIST\n",
    "mnist = fetch_openml('mnist_784', version=1, as_frame=False)\n",
    "x, y = mnist['data'], mnist['target']\n",
    "\n",
    "# Split into train, val, test\n",
    "x_train_full, x_test, y_train_full, y_test = train_test_split(\n",
    "    x, y, test_size=10000, random_state=42, stratify=y\n",
    ")\n",
    "x_train, x_val, y_train, y_val = train_test_split(\n",
    "    x_train_full, y_train_full, test_size=10000, random_state=42, stratify=y_train_full\n",
    ")\n",
    "\n",
    "# Scale features\n",
    "scaler = StandardScaler()\n",
    "x_train_scaled = scaler.fit_transform(x_train)\n",
    "x_val_scaled = scaler.transform(x_val)\n",
    "x_test_scaled = scaler.transform(x_test)\n",
    "\n",
    "# Models\n",
    "\n",
    "rfc = RandomForestClassifier(n_estimators=100, random_state=42)\n",
    "etc = ExtraTreesClassifier(n_estimators=100, random_state=42)\n",
    "\n",
    "# Train and evaluate Random Forest\n",
    "rfc_model = rfc.fit(x_train_scaled, y_train)\n",
    "y_pred_rfc = rfc_model.predict(x_test_scaled)\n",
    "acc_rfc = accuracy_score(y_test, y_pred_rfc)\n",
    "print(\"Random Forest Accuracy:\", acc_rfc)\n",
    "\n",
    "# Train and evaluate Extra Trees\n",
    "etc_model = etc.fit(x_train_scaled, y_train)\n",
    "y_pred_etc = etc_model.predict(x_test_scaled)\n",
    "acc_etc = accuracy_score(y_test, y_pred_etc)\n",
    "print(\"Extra Trees Accuracy:\", acc_etc)"
   ]
  },
  {
   "cell_type": "code",
   "execution_count": 2,
   "id": "277afd8e-6aca-40bd-913b-82f267204413",
   "metadata": {},
   "outputs": [
    {
     "name": "stdout",
     "output_type": "stream",
     "text": [
      "0.9737\n"
     ]
    }
   ],
   "source": [
    "voting_clf = VotingClassifier( estimators= [ ('rf' , rfc) ,('et' ,etc) ], voting='soft')\n",
    "vc= voting_clf.fit(x_train_scaled, y_train)\n",
    "prediction = vc.predict(x_val_scaled)\n",
    "accu = accuracy_score(y_val, prediction)\n",
    "print(accu)"
   ]
  },
  {
   "cell_type": "code",
   "execution_count": null,
   "id": "1ac1f944-fdcf-4419-a91a-f10acaedb671",
   "metadata": {},
   "outputs": [],
   "source": []
  },
  {
   "cell_type": "code",
   "execution_count": null,
   "id": "ec30e91a-e352-4aa0-b844-2f5939b4fee6",
   "metadata": {},
   "outputs": [],
   "source": []
  }
 ],
 "metadata": {
  "kernelspec": {
   "display_name": "Python 3 (ipykernel)",
   "language": "python",
   "name": "python3"
  },
  "language_info": {
   "codemirror_mode": {
    "name": "ipython",
    "version": 3
   },
   "file_extension": ".py",
   "mimetype": "text/x-python",
   "name": "python",
   "nbconvert_exporter": "python",
   "pygments_lexer": "ipython3",
   "version": "3.12.4"
  }
 },
 "nbformat": 4,
 "nbformat_minor": 5
}
